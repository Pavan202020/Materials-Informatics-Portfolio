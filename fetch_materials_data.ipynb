{
 "cells": [{
  "cell_type": "code",
  "metadata": {},
  "source": [
   "from matminer.data_retrieval.retrieve_MP import MPDataRetrieval\n",
   "api = MPDataRetrieval(api_key='YOUR_API_KEY_HERE')\n",
   "df = api.get_dataframe(criteria={'band_gap': {'$gt': 0}}, properties=['pretty_formula', 'band_gap', 'e_form'])\n",
   "df.head()"
  ]
 }],
 "metadata": {"kernelspec": {"display_name": "Python 3", "language": "python", "name": "python3"}},
 "nbformat": 4,
 "nbformat_minor": 2
}