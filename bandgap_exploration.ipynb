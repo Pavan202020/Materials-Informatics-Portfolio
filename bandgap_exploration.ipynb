{
 "cells": [{
  "cell_type": "code",
  "metadata": {},
  "source": [
   "from matminer.datasets import load_dataset\n",
   "import pandas as pd\n\n",
   "data = load_dataset('matbench_perovskites')\n",
   "print('Data shape:', data.shape)\n",
   "data.head()"
  ]
 }],
 "metadata": {"kernelspec": {"display_name": "Python 3", "language": "python", "name": "python3"}},
 "nbformat": 4,
 "nbformat_minor": 2
}