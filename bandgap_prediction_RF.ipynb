{
 "cells": [{
  "cell_type": "code",
  "metadata": {},
  "source": [
   "import pandas as pd\n",
   "from sklearn.model_selection import train_test_split\n",
   "from sklearn.ensemble import RandomForestRegressor\n",
   "from sklearn.metrics import mean_squared_error\n\n",
   "# Load example dataset\n",
   "data = pd.read_csv('../02_Computational_Data/material_properties_summary.csv')\n",
   "X = data.drop('band_gap', axis=1)\n",
   "y = data['band_gap']\n\n",
   "X_train, X_test, y_train, y_test = train_test_split(X, y, test_size=0.2, random_state=42)\n",
   "model = RandomForestRegressor(n_estimators=100, random_state=42)\n",
   "model.fit(X_train, y_train)\n",
   "preds = model.predict(X_test)\n",
   "print('MSE:', mean_squared_error(y_test, preds))"
  ]
 }],
 "metadata": {"kernelspec": {"display_name": "Python 3", "language": "python", "name": "python3"}},
 "nbformat": 4,
 "nbformat_minor": 2
}